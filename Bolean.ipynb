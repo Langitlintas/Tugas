{
  "nbformat": 4,
  "nbformat_minor": 0,
  "metadata": {
    "colab": {
      "provenance": [],
      "authorship_tag": "ABX9TyOMkPrGSb3NeLVltB0ot1yz",
      "include_colab_link": true
    },
    "kernelspec": {
      "name": "python3",
      "display_name": "Python 3"
    },
    "language_info": {
      "name": "python"
    }
  },
  "cells": [
    {
      "cell_type": "markdown",
      "metadata": {
        "id": "view-in-github",
        "colab_type": "text"
      },
      "source": [
        "<a href=\"https://colab.research.google.com/github/Langitlintas/Tugas/blob/main/Bolean.ipynb\" target=\"_parent\"><img src=\"https://colab.research.google.com/assets/colab-badge.svg\" alt=\"Open In Colab\"/></a>"
      ]
    },
    {
      "cell_type": "code",
      "execution_count": 3,
      "metadata": {
        "colab": {
          "base_uri": "https://localhost:8080/"
        },
        "id": "bLayuxH-CAbr",
        "outputId": "6e1961fa-244c-4f8e-afde-e33d6e63817f"
      },
      "outputs": [
        {
          "output_type": "stream",
          "name": "stdout",
          "text": [
            "prediksi tim bolaMu\n",
            "prediksi tim bolaMadrid\n",
            "Apakah Mu akan menang melawan Madrid? (True/False)False\n",
            "apa kah Mu akan menang melawan Madrid?=True\n"
          ]
        }
      ],
      "source": [
        "club_bola_1 = input(\"prediksi tim bola\")\n",
        "club_bola_2 = input(\"prediksi tim bola\")\n",
        "menang = bool(input(f\"Apakah {club_bola_1} akan menang melawan {club_bola_2}? (True/False)\"))\n",
        "print(f\"apa kah {club_bola_1} akan menang melawan {club_bola_2}?={menang}\")"
      ]
    }
  ]
}